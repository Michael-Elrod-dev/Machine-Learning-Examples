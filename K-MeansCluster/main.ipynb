{
 "cells": [
  {
   "cell_type": "markdown",
   "metadata": {},
   "source": [
    "# Project 5: K-Means Clustering\n"
   ]
  },
  {
   "cell_type": "markdown",
   "metadata": {},
   "source": [
    "# Project Description\n",
    "\n",
    "For this project you will implement a **K-means** clustering algorithm.\n"
   ]
  },
  {
   "cell_type": "markdown",
   "metadata": {},
   "source": [
    "## Data File"
   ]
  },
  {
   "cell_type": "markdown",
   "metadata": {},
   "source": [
    "Two text files with the data is available on Canvas: a data file and a centroids file. You need to write a code to read data from the two files. \n",
    "\n",
    "The **data file** will be formatted with the first line containing m and n, tab separated, where m is the number of lines of data and n is the number of features (for this assignment n will be 2 but assume we still put it into the file.)\n",
    "\n",
    "Each line will contain two real values (feature $x_1$ and feature $x_2$), tab separated. Such as the following:\n",
    "```\n",
    "\n",
    "4\t2\n",
    "6.3\t6.0\n",
    "6.7\t5.8\n",
    "5.7\t4.1\n",
    "5.6\t3.9\n",
    "```\n",
    "The **centroid file** containing two initial centroids, formatted with the number of centroids on the first line and the coordinates of each centroid on the following lines, one centroid per line, tab separated. Such as:\n",
    "```\n",
    "2\n",
    "4 4\n",
    "6 6\n",
    "```\n",
    "\n",
    "You **can** use packages, such as **panda**, to load the data.\n"
   ]
  },
  {
   "cell_type": "code",
   "execution_count": 1,
   "metadata": {},
   "outputs": [],
   "source": [
    "##############################################################################\n",
    "#         TODO: Write the code for reading data from files                    #\n",
    "##############################################################################\n",
    "import pandas as pd\n",
    "import numpy as np\n",
    "\n",
    "# Function to load centroids from the file\n",
    "def load_centroids(file_path):\n",
    "    with open(file_path, 'r') as file:\n",
    "        num_centroids = int(file.readline().strip())\n",
    "        centroids = np.array([list(map(float, line.strip().split('\\t'))) for line in file])\n",
    "    return centroids\n",
    "\n",
    "# Function to load data points from the file\n",
    "def load_data(file_path):\n",
    "    with open(file_path, 'r') as file:\n",
    "        m, n = map(int, file.readline().strip().split('\\t'))\n",
    "        data = np.array([list(map(float, line.strip().split('\\t'))) for line in file])\n",
    "    return data\n",
    "\n",
    "centroids = load_centroids('P5_Centroids.txt')\n",
    "data = load_data('P5_Data.txt')\n",
    "\n",
    "##############################################################################\n",
    "#                              END OF YOUR CODE                              #\n",
    "##############################################################################"
   ]
  },
  {
   "cell_type": "markdown",
   "metadata": {},
   "source": [
    "Next, you need to print out a plot of the data to the screen, including the two initial centroids (color coded) like the following figure:\n",
    "\n",
    "<div>\n",
    "<img src=\"https://nianyil.people.clemson.edu/CPSC_4430/P5_1.jpg\" width=\"400\"/>\n",
    "</div>"
   ]
  },
  {
   "cell_type": "markdown",
   "metadata": {},
   "source": [
    "## K-means Clustering"
   ]
  },
  {
   "cell_type": "markdown",
   "metadata": {},
   "source": [
    "Implement K-means (**K=2**) to cluster the data into two groups."
   ]
  },
  {
   "cell_type": "code",
   "execution_count": 2,
   "metadata": {},
   "outputs": [],
   "source": [
    "##############################################################################\n",
    "#                TODO: Implement the K-means clustering                      #\n",
    "##############################################################################\n",
    "def k_means(data, initial_centroids, max_iters=100):\n",
    "    centroids = np.array(initial_centroids)\n",
    "    for _ in range(max_iters):\n",
    "        expanded_centroids = np.expand_dims(centroids, axis=1)\n",
    "        expanded_data = np.expand_dims(data, axis=0)\n",
    "        distances = np.sqrt(np.sum((expanded_data - expanded_centroids) ** 2, axis=2))\n",
    "        closest_centroids = np.argmin(distances, axis=0)\n",
    "        new_centroids = []\n",
    "\n",
    "        for k in range(len(centroids)):\n",
    "            cluster_data = data[closest_centroids == k]\n",
    "            if cluster_data.size:\n",
    "                new_centroids.append(cluster_data.mean(axis=0))\n",
    "            else:\n",
    "                new_centroids.append(centroids[k])\n",
    "        new_centroids = np.array(new_centroids)\n",
    "\n",
    "        if np.allclose(centroids, new_centroids, atol=1e-5):\n",
    "            break\n",
    "        centroids = new_centroids\n",
    "\n",
    "    return closest_centroids, centroids\n",
    "##############################################################################\n",
    "#                              END OF YOUR CODE                              #\n",
    "##############################################################################"
   ]
  },
  {
   "cell_type": "markdown",
   "metadata": {},
   "source": [
    "Once the algorithm converged, print out a plot of the cluster data with each cluster color coded along with the final centroids like the following:\n",
    "<div>\n",
    "<img src=\"https://nianyil.people.clemson.edu/CPSC_4430/P5_2.jpg\" width=\"400\"/>\n",
    "</div>"
   ]
  },
  {
   "cell_type": "code",
   "execution_count": 3,
   "metadata": {},
   "outputs": [
    {
     "data": {
      "image/png": "[encoded data removed]",
      "text/plain": [
       "<Figure size 800x600 with 1 Axes>"
      ]
     },
     "metadata": {},
     "output_type": "display_data"
    }
   ],
   "source": [
    "##############################################################################\n",
    "#                TODO: Plot the clustering result                           #\n",
    "##############################################################################\n",
    "import matplotlib.pyplot as plt\n",
    "\n",
    "def plot_k_means(data, centroids, labels):\n",
    "    plt.figure(figsize=(8, 6))\n",
    "    colors = ['red', 'green']\n",
    "    \n",
    "    for i in range(len(centroids)):\n",
    "        points = data[labels == i]\n",
    "        plt.scatter(points[:, 0], points[:, 1], s=50, c=colors[i], label=f'Cluster {i}')\n",
    "\n",
    "    plt.scatter(centroids[:, 0], centroids[:, 1], s=100, c='blue', label='Centroids', marker='X')\n",
    "    plt.title('Clustered Data Points')\n",
    "    plt.xlabel('x1 Axis')\n",
    "    plt.ylabel('x2 Axis')\n",
    "    plt.legend()\n",
    "    plt.show()\n",
    "    \n",
    "labels, final_centroids = k_means(data, centroids)\n",
    "plot_k_means(data, final_centroids, labels)\n",
    "##############################################################################\n",
    "#                              END OF YOUR CODE                              #\n",
    "##############################################################################"
   ]
  },
  {
   "cell_type": "markdown",
   "metadata": {},
   "source": [
    "Next, print out the coordinates of the final centroids."
   ]
  },
  {
   "cell_type": "code",
   "execution_count": 4,
   "metadata": {},
   "outputs": [
    {
     "name": "stdout",
     "output_type": "stream",
     "text": [
      "Final centroids' coordinates:\n",
      "[[6.02666667 2.79111111]\n",
      " [5.01636364 3.34181818]]\n"
     ]
    }
   ],
   "source": [
    "##############################################################################\n",
    "#       TODO: print out the final centroids' coordinates                     #\n",
    "##############################################################################\n",
    "print(\"Final centroids' coordinates:\")\n",
    "print(final_centroids)\n",
    "##############################################################################\n",
    "#                              END OF YOUR CODE                              #\n",
    "##############################################################################"
   ]
  },
  {
   "cell_type": "markdown",
   "metadata": {},
   "source": [
    "## Model Evaluation"
   ]
  },
  {
   "cell_type": "markdown",
   "metadata": {},
   "source": [
    "Compute and **print out the overall error** (J function presented in the course slides) for the entire data set.\n"
   ]
  },
  {
   "cell_type": "code",
   "execution_count": 5,
   "metadata": {},
   "outputs": [
    {
     "name": "stdout",
     "output_type": "stream",
     "text": [
      "The overall error (cost function J) for the dataset is: 0.30433535353535357\n"
     ]
    }
   ],
   "source": [
    "##############################################################################\n",
    "#                           TODO: Model Evaluation                           #\n",
    "##############################################################################\n",
    "def compute_cost_function(data, centroids, labels):\n",
    "    m = data.shape[0] # number of data points\n",
    "    J = 0\n",
    "    for i in range(len(centroids)):\n",
    "        cluster_data = data[labels == i]\n",
    "        J += np.sum((cluster_data - centroids[i]) ** 2)\n",
    "    J /= m # divide by the number of data points to average\n",
    "    return J\n",
    "\n",
    "J = compute_cost_function(data, final_centroids, labels)\n",
    "print(f\"The overall error (cost function J) for the dataset is: {J}\")\n",
    "##############################################################################\n",
    "#                              END OF YOUR CODE                              #\n",
    "##############################################################################"
   ]
  },
  {
   "cell_type": "code",
   "execution_count": null,
   "metadata": {},
   "outputs": [],
   "source": []
  },
  {
   "cell_type": "code",
   "execution_count": null,
   "metadata": {},
   "outputs": [],
   "source": []
  }
 ],
 "metadata": {
  "kernelspec": {
   "display_name": "Python 3 (ipykernel)",
   "language": "python",
   "name": "python3"
  },
  "language_info": {
   "codemirror_mode": {
    "name": "ipython",
    "version": 3
   },
   "file_extension": ".py",
   "mimetype": "text/x-python",
   "name": "python",
   "nbconvert_exporter": "python",
   "pygments_lexer": "ipython3",
   "version": "3.11.5"
  }
 },
 "nbformat": 4,
 "nbformat_minor": 4
}
