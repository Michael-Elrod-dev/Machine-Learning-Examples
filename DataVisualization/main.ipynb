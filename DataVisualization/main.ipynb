{
 "cells": [
  {
   "cell_type": "markdown",
   "metadata": {},
   "source": []
  },
  {
   "cell_type": "markdown",
   "metadata": {},
   "source": [
    "# Python 3\n",
    "\n",
    "If you're unfamiliar with Python 3, here are some of the most common changes from Python 2 to look out for."
   ]
  },
  {
   "cell_type": "markdown",
   "metadata": {},
   "source": [
    "### Print is a function"
   ]
  },
  {
   "cell_type": "code",
   "execution_count": 7,
   "metadata": {},
   "outputs": [
    {
     "name": "stdout",
     "output_type": "stream",
     "text": [
      "Hello!\n"
     ]
    }
   ],
   "source": [
    "print(\"Hello!\")"
   ]
  },
  {
   "cell_type": "markdown",
   "metadata": {},
   "source": [
    "Without parentheses, printing will not work."
   ]
  },
  {
   "cell_type": "markdown",
   "metadata": {},
   "source": [
    "### Floating point division by default"
   ]
  },
  {
   "cell_type": "code",
   "execution_count": 8,
   "metadata": {},
   "outputs": [
    {
     "data": {
      "text/plain": [
       "2.5"
      ]
     },
     "execution_count": 8,
     "metadata": {},
     "output_type": "execute_result"
    }
   ],
   "source": [
    "5 / 2"
   ]
  },
  {
   "cell_type": "markdown",
   "metadata": {},
   "source": [
    "To do integer division, we use two backslashes:"
   ]
  },
  {
   "cell_type": "code",
   "execution_count": 9,
   "metadata": {},
   "outputs": [
    {
     "data": {
      "text/plain": [
       "2"
      ]
     },
     "execution_count": 9,
     "metadata": {},
     "output_type": "execute_result"
    }
   ],
   "source": [
    "5 // 2"
   ]
  },
  {
   "cell_type": "markdown",
   "metadata": {},
   "source": [
    "### No xrange"
   ]
  },
  {
   "cell_type": "markdown",
   "metadata": {},
   "source": [
    "The xrange from Python 2 is now merged into \"range\" for Python 3 and there is no xrange in Python 3. In Python 3, range(3) does not create a list of 3 elements as it would in Python 2, rather just creates a more memory efficient iterator.\n",
    "\n",
    "Hence,\n",
    "xrange in Python 3: Does not exist\n",
    "range in Python 3: Has very similar behavior to Python 2's xrange"
   ]
  },
  {
   "cell_type": "code",
   "execution_count": 10,
   "metadata": {},
   "outputs": [
    {
     "name": "stdout",
     "output_type": "stream",
     "text": [
      "0\n",
      "1\n",
      "2\n"
     ]
    }
   ],
   "source": [
    "for i in range(3):\n",
    "    print(i)"
   ]
  },
  {
   "cell_type": "code",
   "execution_count": 11,
   "metadata": {},
   "outputs": [
    {
     "data": {
      "text/plain": [
       "range(0, 3)"
      ]
     },
     "execution_count": 11,
     "metadata": {},
     "output_type": "execute_result"
    }
   ],
   "source": [
    "range(3)"
   ]
  },
  {
   "cell_type": "code",
   "execution_count": 12,
   "metadata": {},
   "outputs": [
    {
     "name": "stdout",
     "output_type": "stream",
     "text": [
      "[0, 1, 2]\n"
     ]
    }
   ],
   "source": [
    "# If need be, can use the following to get a similar behavior to Python 2's range:\n",
    "print(list(range(3)))"
   ]
  },
  {
   "cell_type": "markdown",
   "metadata": {},
   "source": [
    "# Project Description"
   ]
  },
  {
   "cell_type": "markdown",
   "metadata": {},
   "source": [
    "## Data File"
   ]
  },
  {
   "cell_type": "markdown",
   "metadata": {},
   "source": [
    "The first line of `IrisData.txt` contains two integers. The first represents how many lines of data are in the file. The second how many features are associated with each line. Each line after that contains four floating point values representing the sepal length, sepal width, petal length, and petal width of a type of iris flower, followed by the name of the iris type: either setosa, versicolor, or virginica. Values are tab separated."
   ]
  },
  {
   "cell_type": "markdown",
   "metadata": {},
   "source": [
    "## Python Program"
   ]
  },
  {
   "cell_type": "markdown",
   "metadata": {},
   "source": [
    "Write a Python program that will print out a **two-dimensional plot** of any two features for all three varieties of iris flowers using the features of `matplotlib.pyplot`. Your program should begin by asking for the name of the input file. For example:\n",
    "```python\n",
    "Enter the name of your data file: Irisdata.txt\n",
    "```"
   ]
  },
  {
   "cell_type": "code",
   "execution_count": 13,
   "metadata": {},
   "outputs": [
    {
     "name": "stdout",
     "output_type": "stream",
     "text": [
      "Enter the name of your data file: Irisdata.txt\n",
      "You can do a plot of any two features of the Iris Data set. The feature codes are:\n",
      "0 = sepal length\n",
      "1 = sepal width\n",
      "2 = petal length\n",
      "3 = petal width\n",
      "\n",
      "Enter feature code for the horizontal axis: 2\n",
      "Enter feature code for the vertical axis: 3\n"
     ]
    }
   ],
   "source": [
    "##############################################################################\n",
    "#         TODO: Write the code for reading data from file                    #\n",
    "##############################################################################\n",
    "file_name = input(\"Enter the name of your data file: \")\n",
    "print(\"You can do a plot of any two features of the Iris Data set. The feature codes are:\")\n",
    "print(\"0 = sepal length\\n1 = sepal width\\n2 = petal length\\n3 = petal width\\n\")\n",
    "\n",
    "feature_x = int(input(\"Enter feature code for the horizontal axis: \"))\n",
    "feature_y = int(input(\"Enter feature code for the vertical axis: \"))\n",
    "\n",
    "data = {\n",
    "    \"setosa\": [],\n",
    "    \"versicolor\": [],\n",
    "    \"virginica\": []\n",
    "}\n",
    "\n",
    "# Separate the data into lists\n",
    "with open(file_name, 'r') as file:\n",
    "    for line in file:\n",
    "        # Separate each line into words\n",
    "        items = line.strip().split()\n",
    "        if len(items) == 5:\n",
    "            features = [float(i) for i in items[:4]]\n",
    "            label = items[4]\n",
    "            data[label].append(features)\n",
    "\n",
    "##############################################################################\n",
    "#                              END OF YOUR CODE                              #\n",
    "##############################################################################"
   ]
  },
  {
   "cell_type": "markdown",
   "metadata": {},
   "source": [
    "Then the program should prompt the user for two features to plot. For example, it could say:\n",
    "```\n",
    "You can do a plot of any two features of the Iris Data set The feature codes are:\n",
    "0 = sepal length\n",
    "1 = sepal width\n",
    "2 = petal length\n",
    "3 = petal width\n",
    "```\n",
    "```python\n",
    "Enter feature code For the horizontal axis: 0\n",
    "Enter feature code For the vertical axis: 1\n",
    "```"
   ]
  },
  {
   "cell_type": "code",
   "execution_count": 16,
   "metadata": {},
   "outputs": [],
   "source": [
    "##############################################################################\n",
    "#   TODO: Write the function for plotting using two features of the data     #\n",
    "##############################################################################\n",
    "import matplotlib.pyplot as plot\n",
    "def plot_features(file_name, feature_x, feature_y):\n",
    "    # Objects for plots\n",
    "    colors = {\n",
    "        \"setosa\": 'r',\n",
    "        \"versicolor\": 'g',\n",
    "        \"virginica\": 'b'\n",
    "    }\n",
    "    markers = {\n",
    "        \"setosa\": 'o',\n",
    "        \"versicolor\": 's',\n",
    "        \"virginica\": 'd'\n",
    "    }\n",
    "    data = {\n",
    "        \"setosa\": [],\n",
    "        \"versicolor\": [],\n",
    "        \"virginica\": []\n",
    "    }\n",
    "\n",
    "    # Separate the data into lists\n",
    "    with open(file_name, 'r') as file:\n",
    "        for line in file:\n",
    "            # Separate each line into words\n",
    "            items = line.strip().split()\n",
    "            if len(items) == 5:\n",
    "                features = [float(i) for i in items[:4]]\n",
    "                label = items[4]\n",
    "                data[label].append(features)\n",
    "\n",
    "    for label, features in data.items():\n",
    "        if features:\n",
    "            x = [feature[feature_x] for feature in features]\n",
    "            y = [feature[feature_y] for feature in features]\n",
    "            plot.scatter(x, y, color=colors[label], marker=markers[label], label=label)\n",
    "    \n",
    "    # Plot labels\n",
    "    plot.xlabel(['sepal length', 'sepal width', 'petal length', 'petal width'][feature_x])\n",
    "    plot.ylabel(['sepal length', 'sepal width', 'petal length', 'petal width'][feature_y])\n",
    "    plot.title('Iris Data Set')\n",
    "    plot.legend()\n",
    "    plot.show()\n",
    "##############################################################################\n",
    "#                              END OF YOUR CODE                              #\n",
    "##############################################################################"
   ]
  },
  {
   "cell_type": "markdown",
   "metadata": {},
   "source": [
    "Once the program does a plot it should ask the user if they want to another plot. For example:\n",
    "\n",
    "> Would you like to do another plot? (y/n) `y`\n",
    "\n",
    "\n",
    "If the answer is `y`, then the user should be prompted for new features to plot on the horizontal and vertical axes as before and a new plot generated. `n` should end the program.\n",
    "\n",
    "Plots should be labelled with a *title, axes should be labelled*, there should be a *legend* and all three varieties should be **color coded** and have different symbols. An example is shown below.\n",
    "\n",
    "![caption](https://nianyil.people.clemson.edu/CPSC_4430/P1.png)\n",
    "\n",
    "You need to try **at least 3 plots with different x and y labels combination**."
   ]
  },
  {
   "cell_type": "code",
   "execution_count": 18,
   "metadata": {},
   "outputs": [
    {
     "name": "stdout",
     "output_type": "stream",
     "text": [
      "Enter the name of your data file: Irisdata.txt\n",
      "You can do a plot of any two features of the Iris Data set. The feature codes are:\n",
      "0 = sepal length\n",
      "1 = sepal width\n",
      "2 = petal length\n",
      "3 = petal width\n",
      "\n",
      "Enter feature code for the horizontal axis: 1\n",
      "Enter feature code for the vertical axis: 2\n"
     ]
    },
    {
     "data": {
      "image/png": "[encoded data removed]",
      "text/plain": [
       "<Figure size 640x480 with 1 Axes>"
      ]
     },
     "metadata": {},
     "output_type": "display_data"
    },
    {
     "name": "stdout",
     "output_type": "stream",
     "text": [
      "\n",
      "Would you like to do another plot? (y/n) y\n",
      "You can do a plot of any two features of the Iris Data set. The feature codes are:\n",
      "0 = sepal length\n",
      "1 = sepal width\n",
      "2 = petal length\n",
      "3 = petal width\n",
      "\n",
      "Enter feature code for the horizontal axis: 0\n",
      "Enter feature code for the vertical axis: 1\n"
     ]
    },
    {
     "data": {
      "image/png": "[encoded data removed]",
      "text/plain": [
       "<Figure size 640x480 with 1 Axes>"
      ]
     },
     "metadata": {},
     "output_type": "display_data"
    },
    {
     "name": "stdout",
     "output_type": "stream",
     "text": [
      "\n",
      "Would you like to do another plot? (y/n) y\n",
      "You can do a plot of any two features of the Iris Data set. The feature codes are:\n",
      "0 = sepal length\n",
      "1 = sepal width\n",
      "2 = petal length\n",
      "3 = petal width\n",
      "\n",
      "Enter feature code for the horizontal axis: 2\n",
      "Enter feature code for the vertical axis: 3\n"
     ]
    },
    {
     "data": {
      "image/png": "[encoded data removed]",
      "text/plain": [
       "<Figure size 640x480 with 1 Axes>"
      ]
     },
     "metadata": {},
     "output_type": "display_data"
    },
    {
     "name": "stdout",
     "output_type": "stream",
     "text": [
      "\n",
      "Would you like to do another plot? (y/n) n\n"
     ]
    }
   ],
   "source": [
    "##############################################################################\n",
    "#          TODO: Use the loop function for plotting figures                 #\n",
    "##############################################################################\n",
    "import matplotlib.pyplot as plot\n",
    "def plot_points(file_name, feature_x, feature_y):\n",
    "    # Objects for plots\n",
    "    colors = {\n",
    "        \"setosa\": 'r',\n",
    "        \"versicolor\": 'g',\n",
    "        \"virginica\": 'b'\n",
    "    }\n",
    "    markers = {\n",
    "        \"setosa\": 'o',\n",
    "        \"versicolor\": 's',\n",
    "        \"virginica\": 'd'\n",
    "    }\n",
    "    data = {\n",
    "        \"setosa\": [],\n",
    "        \"versicolor\": [],\n",
    "        \"virginica\": []\n",
    "    }\n",
    "\n",
    "    # Separate the data into lists\n",
    "    with open(file_name, 'r') as file:\n",
    "        for line in file:\n",
    "            # Separate each line into words\n",
    "            items = line.strip().split()\n",
    "            if len(items) == 5:\n",
    "                features = [float(i) for i in items[:4]]\n",
    "                label = items[4]\n",
    "                data[label].append(features)\n",
    "\n",
    "    for label, features in data.items():\n",
    "        if features:\n",
    "            x = [feature[feature_x] for feature in features]\n",
    "            y = [feature[feature_y] for feature in features]\n",
    "            plot.scatter(x, y, color=colors[label], marker=markers[label], label=label)\n",
    "    \n",
    "    # Plot labels\n",
    "    plot.xlabel(['sepal length', 'sepal width', 'petal length', 'petal width'][feature_x])\n",
    "    plot.ylabel(['sepal length', 'sepal width', 'petal length', 'petal width'][feature_y])\n",
    "    plot.title('Iris Data Set')\n",
    "    plot.legend()\n",
    "    plot.show()\n",
    "\n",
    "\n",
    "file_name = input(\"Enter the name of your data file: \")\n",
    "while True:\n",
    "    print(\"You can do a plot of any two features of the Iris Data set. The feature codes are:\")\n",
    "    print(\"0 = sepal length\\n1 = sepal width\\n2 = petal length\\n3 = petal width\\n\")\n",
    "    \n",
    "    feature_x = int(input(\"Enter feature code for the horizontal axis: \"))\n",
    "    feature_y = int(input(\"Enter feature code for the vertical axis: \"))\n",
    "    \n",
    "    plot_points(file_name, feature_x, feature_y)\n",
    "    \n",
    "    plot_again = input(\"\\nWould you like to do another plot? (y/n) \").lower()\n",
    "    if plot_again == 'n':\n",
    "        break\n",
    "##############################################################################\n",
    "#                              END OF YOUR CODE                              #\n",
    "##############################################################################"
   ]
  },
  {
   "cell_type": "code",
   "execution_count": null,
   "metadata": {},
   "outputs": [],
   "source": []
  },
  {
   "cell_type": "markdown",
   "metadata": {},
   "source": [
    "# Conclusion\n",
    "\n",
    "Briefly discuss **which feature combination is the best** for classify the iris data."
   ]
  },
  {
   "cell_type": "markdown",
   "metadata": {},
   "source": [
    "**Your Answer:**  "
   ]
  }
 ],
 "metadata": {
  "kernelspec": {
   "display_name": "Python 3 (ipykernel)",
   "language": "python",
   "name": "python3"
  },
  "language_info": {
   "codemirror_mode": {
    "name": "ipython",
    "version": 3
   },
   "file_extension": ".py",
   "mimetype": "text/x-python",
   "name": "python",
   "nbconvert_exporter": "python",
   "pygments_lexer": "ipython3",
   "version": "3.11.4"
  }
 },
 "nbformat": 4,
 "nbformat_minor": 2
}
